{
  "cells": [
    {
      "cell_type": "code",
      "execution_count": 2,
      "metadata": {
        "colab": {
          "base_uri": "https://localhost:8080/"
        },
        "id": "Pb6jUgcIVYpJ",
        "outputId": "3cd28274-8580-4f0d-8225-33b1a052bf07"
      },
      "outputs": [
        {
          "name": "stdout",
          "output_type": "stream",
          "text": [
            "Defaulting to user installation because normal site-packages is not writeable\n",
            "Requirement already satisfied: yfinance in /Users/bibin/Library/Python/3.9/lib/python/site-packages (0.2.61)\n",
            "Requirement already satisfied: pandas>=1.3.0 in /Users/bibin/Library/Python/3.9/lib/python/site-packages (from yfinance) (2.2.3)\n",
            "Requirement already satisfied: numpy>=1.16.5 in /Users/bibin/Library/Python/3.9/lib/python/site-packages (from yfinance) (1.26.4)\n",
            "Requirement already satisfied: requests>=2.31 in /Users/bibin/Library/Python/3.9/lib/python/site-packages (from yfinance) (2.32.3)\n",
            "Requirement already satisfied: multitasking>=0.0.7 in /Users/bibin/Library/Python/3.9/lib/python/site-packages (from yfinance) (0.0.11)\n",
            "Requirement already satisfied: platformdirs>=2.0.0 in /Users/bibin/Library/Python/3.9/lib/python/site-packages (from yfinance) (4.3.8)\n",
            "Requirement already satisfied: pytz>=2022.5 in /Users/bibin/Library/Python/3.9/lib/python/site-packages (from yfinance) (2025.2)\n",
            "Requirement already satisfied: frozendict>=2.3.4 in /Users/bibin/Library/Python/3.9/lib/python/site-packages (from yfinance) (2.4.6)\n",
            "Requirement already satisfied: peewee>=3.16.2 in /Users/bibin/Library/Python/3.9/lib/python/site-packages (from yfinance) (3.18.1)\n",
            "Requirement already satisfied: beautifulsoup4>=4.11.1 in /Users/bibin/Library/Python/3.9/lib/python/site-packages (from yfinance) (4.13.4)\n",
            "Requirement already satisfied: curl_cffi>=0.7 in /Users/bibin/Library/Python/3.9/lib/python/site-packages (from yfinance) (0.11.1)\n",
            "Requirement already satisfied: protobuf>=3.19.0 in /Users/bibin/Library/Python/3.9/lib/python/site-packages (from yfinance) (4.25.8)\n",
            "Requirement already satisfied: websockets>=13.0 in /Users/bibin/Library/Python/3.9/lib/python/site-packages (from yfinance) (15.0.1)\n",
            "Requirement already satisfied: soupsieve>1.2 in /Users/bibin/Library/Python/3.9/lib/python/site-packages (from beautifulsoup4>=4.11.1->yfinance) (2.7)\n",
            "Requirement already satisfied: typing-extensions>=4.0.0 in /Users/bibin/Library/Python/3.9/lib/python/site-packages (from beautifulsoup4>=4.11.1->yfinance) (4.14.0)\n",
            "Requirement already satisfied: cffi>=1.12.0 in /Users/bibin/Library/Python/3.9/lib/python/site-packages (from curl_cffi>=0.7->yfinance) (1.17.1)\n",
            "Requirement already satisfied: certifi>=2024.2.2 in /Users/bibin/Library/Python/3.9/lib/python/site-packages (from curl_cffi>=0.7->yfinance) (2025.4.26)\n",
            "Requirement already satisfied: pycparser in /Users/bibin/Library/Python/3.9/lib/python/site-packages (from cffi>=1.12.0->curl_cffi>=0.7->yfinance) (2.22)\n",
            "Requirement already satisfied: python-dateutil>=2.8.2 in /Users/bibin/Library/Python/3.9/lib/python/site-packages (from pandas>=1.3.0->yfinance) (2.9.0.post0)\n",
            "Requirement already satisfied: tzdata>=2022.7 in /Users/bibin/Library/Python/3.9/lib/python/site-packages (from pandas>=1.3.0->yfinance) (2025.2)\n",
            "Requirement already satisfied: six>=1.5 in /Library/Developer/CommandLineTools/Library/Frameworks/Python3.framework/Versions/3.9/lib/python3.9/site-packages (from python-dateutil>=2.8.2->pandas>=1.3.0->yfinance) (1.15.0)\n",
            "Requirement already satisfied: charset-normalizer<4,>=2 in /Users/bibin/Library/Python/3.9/lib/python/site-packages (from requests>=2.31->yfinance) (3.4.2)\n",
            "Requirement already satisfied: idna<4,>=2.5 in /Users/bibin/Library/Python/3.9/lib/python/site-packages (from requests>=2.31->yfinance) (3.10)\n",
            "Requirement already satisfied: urllib3<3,>=1.21.1 in /Users/bibin/Library/Python/3.9/lib/python/site-packages (from requests>=2.31->yfinance) (2.4.0)\n",
            "Defaulting to user installation because normal site-packages is not writeable\n",
            "Requirement already satisfied: tensorflow in /Users/bibin/Library/Python/3.9/lib/python/site-packages (2.16.2)\n",
            "Requirement already satisfied: absl-py>=1.0.0 in /Users/bibin/Library/Python/3.9/lib/python/site-packages (from tensorflow) (2.3.0)\n",
            "Requirement already satisfied: astunparse>=1.6.0 in /Users/bibin/Library/Python/3.9/lib/python/site-packages (from tensorflow) (1.6.3)\n",
            "Requirement already satisfied: flatbuffers>=23.5.26 in /Users/bibin/Library/Python/3.9/lib/python/site-packages (from tensorflow) (25.2.10)\n",
            "Requirement already satisfied: gast!=0.5.0,!=0.5.1,!=0.5.2,>=0.2.1 in /Users/bibin/Library/Python/3.9/lib/python/site-packages (from tensorflow) (0.6.0)\n",
            "Requirement already satisfied: google-pasta>=0.1.1 in /Users/bibin/Library/Python/3.9/lib/python/site-packages (from tensorflow) (0.2.0)\n",
            "Requirement already satisfied: h5py>=3.10.0 in /Users/bibin/Library/Python/3.9/lib/python/site-packages (from tensorflow) (3.13.0)\n",
            "Requirement already satisfied: libclang>=13.0.0 in /Users/bibin/Library/Python/3.9/lib/python/site-packages (from tensorflow) (18.1.1)\n",
            "Requirement already satisfied: ml-dtypes~=0.3.1 in /Users/bibin/Library/Python/3.9/lib/python/site-packages (from tensorflow) (0.3.2)\n",
            "Requirement already satisfied: opt-einsum>=2.3.2 in /Users/bibin/Library/Python/3.9/lib/python/site-packages (from tensorflow) (3.4.0)\n",
            "Requirement already satisfied: packaging in /Users/bibin/Library/Python/3.9/lib/python/site-packages (from tensorflow) (24.2)\n",
            "Requirement already satisfied: protobuf!=4.21.0,!=4.21.1,!=4.21.2,!=4.21.3,!=4.21.4,!=4.21.5,<5.0.0dev,>=3.20.3 in /Users/bibin/Library/Python/3.9/lib/python/site-packages (from tensorflow) (4.25.8)\n",
            "Requirement already satisfied: requests<3,>=2.21.0 in /Users/bibin/Library/Python/3.9/lib/python/site-packages (from tensorflow) (2.32.3)\n",
            "Requirement already satisfied: setuptools in /Users/bibin/Library/Python/3.9/lib/python/site-packages (from tensorflow) (80.9.0)\n",
            "Requirement already satisfied: six>=1.12.0 in /Library/Developer/CommandLineTools/Library/Frameworks/Python3.framework/Versions/3.9/lib/python3.9/site-packages (from tensorflow) (1.15.0)\n",
            "Requirement already satisfied: termcolor>=1.1.0 in /Users/bibin/Library/Python/3.9/lib/python/site-packages (from tensorflow) (3.1.0)\n",
            "Requirement already satisfied: typing-extensions>=3.6.6 in /Users/bibin/Library/Python/3.9/lib/python/site-packages (from tensorflow) (4.14.0)\n",
            "Requirement already satisfied: wrapt>=1.11.0 in /Users/bibin/Library/Python/3.9/lib/python/site-packages (from tensorflow) (1.17.2)\n",
            "Requirement already satisfied: grpcio<2.0,>=1.24.3 in /Users/bibin/Library/Python/3.9/lib/python/site-packages (from tensorflow) (1.72.1)\n",
            "Requirement already satisfied: tensorboard<2.17,>=2.16 in /Users/bibin/Library/Python/3.9/lib/python/site-packages (from tensorflow) (2.16.2)\n",
            "Requirement already satisfied: keras>=3.0.0 in /Users/bibin/Library/Python/3.9/lib/python/site-packages (from tensorflow) (3.10.0)\n",
            "Requirement already satisfied: tensorflow-io-gcs-filesystem>=0.23.1 in /Users/bibin/Library/Python/3.9/lib/python/site-packages (from tensorflow) (0.37.1)\n",
            "Requirement already satisfied: numpy<2.0.0,>=1.23.5 in /Users/bibin/Library/Python/3.9/lib/python/site-packages (from tensorflow) (1.26.4)\n",
            "Requirement already satisfied: charset-normalizer<4,>=2 in /Users/bibin/Library/Python/3.9/lib/python/site-packages (from requests<3,>=2.21.0->tensorflow) (3.4.2)\n",
            "Requirement already satisfied: idna<4,>=2.5 in /Users/bibin/Library/Python/3.9/lib/python/site-packages (from requests<3,>=2.21.0->tensorflow) (3.10)\n",
            "Requirement already satisfied: urllib3<3,>=1.21.1 in /Users/bibin/Library/Python/3.9/lib/python/site-packages (from requests<3,>=2.21.0->tensorflow) (2.4.0)\n",
            "Requirement already satisfied: certifi>=2017.4.17 in /Users/bibin/Library/Python/3.9/lib/python/site-packages (from requests<3,>=2.21.0->tensorflow) (2025.4.26)\n",
            "Requirement already satisfied: markdown>=2.6.8 in /Users/bibin/Library/Python/3.9/lib/python/site-packages (from tensorboard<2.17,>=2.16->tensorflow) (3.8)\n",
            "Requirement already satisfied: tensorboard-data-server<0.8.0,>=0.7.0 in /Users/bibin/Library/Python/3.9/lib/python/site-packages (from tensorboard<2.17,>=2.16->tensorflow) (0.7.2)\n",
            "Requirement already satisfied: werkzeug>=1.0.1 in /Users/bibin/Library/Python/3.9/lib/python/site-packages (from tensorboard<2.17,>=2.16->tensorflow) (3.1.3)\n",
            "Requirement already satisfied: wheel<1.0,>=0.23.0 in /Library/Developer/CommandLineTools/Library/Frameworks/Python3.framework/Versions/3.9/lib/python3.9/site-packages (from astunparse>=1.6.0->tensorflow) (0.37.0)\n",
            "Requirement already satisfied: rich in /Users/bibin/Library/Python/3.9/lib/python/site-packages (from keras>=3.0.0->tensorflow) (14.0.0)\n",
            "Requirement already satisfied: namex in /Users/bibin/Library/Python/3.9/lib/python/site-packages (from keras>=3.0.0->tensorflow) (0.1.0)\n",
            "Requirement already satisfied: optree in /Users/bibin/Library/Python/3.9/lib/python/site-packages (from keras>=3.0.0->tensorflow) (0.16.0)\n",
            "Requirement already satisfied: importlib-metadata>=4.4 in /Users/bibin/Library/Python/3.9/lib/python/site-packages (from markdown>=2.6.8->tensorboard<2.17,>=2.16->tensorflow) (8.7.0)\n",
            "Requirement already satisfied: zipp>=3.20 in /Users/bibin/Library/Python/3.9/lib/python/site-packages (from importlib-metadata>=4.4->markdown>=2.6.8->tensorboard<2.17,>=2.16->tensorflow) (3.22.0)\n",
            "Requirement already satisfied: MarkupSafe>=2.1.1 in /Users/bibin/Library/Python/3.9/lib/python/site-packages (from werkzeug>=1.0.1->tensorboard<2.17,>=2.16->tensorflow) (3.0.2)\n",
            "Requirement already satisfied: markdown-it-py>=2.2.0 in /Users/bibin/Library/Python/3.9/lib/python/site-packages (from rich->keras>=3.0.0->tensorflow) (3.0.0)\n",
            "Requirement already satisfied: pygments<3.0.0,>=2.13.0 in /Users/bibin/Library/Python/3.9/lib/python/site-packages (from rich->keras>=3.0.0->tensorflow) (2.19.1)\n",
            "Requirement already satisfied: mdurl~=0.1 in /Users/bibin/Library/Python/3.9/lib/python/site-packages (from markdown-it-py>=2.2.0->rich->keras>=3.0.0->tensorflow) (0.1.2)\n"
          ]
        },
        {
          "name": "stderr",
          "output_type": "stream",
          "text": [
            "[*********************100%***********************]  1 of 1 completed"
          ]
        },
        {
          "name": "stdout",
          "output_type": "stream",
          "text": [
            "Epoch 1/5\n"
          ]
        },
        {
          "name": "stderr",
          "output_type": "stream",
          "text": [
            "\n",
            "/Users/bibin/Library/Python/3.9/lib/python/site-packages/keras/src/layers/rnn/rnn.py:199: UserWarning: Do not pass an `input_shape`/`input_dim` argument to a layer. When using Sequential models, prefer using an `Input(shape)` object as the first layer in the model instead.\n",
            "  super().__init__(**kwargs)\n"
          ]
        },
        {
          "name": "stdout",
          "output_type": "stream",
          "text": [
            "\u001b[1m45/45\u001b[0m \u001b[32m━━━━━━━━━━━━━━━━━━━━\u001b[0m\u001b[37m\u001b[0m \u001b[1m7s\u001b[0m 65ms/step - loss: 0.0346\n",
            "Epoch 2/5\n",
            "\u001b[1m45/45\u001b[0m \u001b[32m━━━━━━━━━━━━━━━━━━━━\u001b[0m\u001b[37m\u001b[0m \u001b[1m4s\u001b[0m 78ms/step - loss: 0.0012\n",
            "Epoch 3/5\n",
            "\u001b[1m45/45\u001b[0m \u001b[32m━━━━━━━━━━━━━━━━━━━━\u001b[0m\u001b[37m\u001b[0m \u001b[1m4s\u001b[0m 84ms/step - loss: 7.8817e-04\n",
            "Epoch 4/5\n",
            "\u001b[1m45/45\u001b[0m \u001b[32m━━━━━━━━━━━━━━━━━━━━\u001b[0m\u001b[37m\u001b[0m \u001b[1m3s\u001b[0m 64ms/step - loss: 6.9039e-04\n",
            "Epoch 5/5\n",
            "\u001b[1m45/45\u001b[0m \u001b[32m━━━━━━━━━━━━━━━━━━━━\u001b[0m\u001b[37m\u001b[0m \u001b[1m3s\u001b[0m 62ms/step - loss: 6.6698e-04\n"
          ]
        },
        {
          "name": "stderr",
          "output_type": "stream",
          "text": [
            "WARNING:absl:You are saving your model as an HDF5 file via `model.save()` or `keras.saving.save_model(model)`. This file format is considered legacy. We recommend using instead the native Keras format, e.g. `model.save('my_model.keras')` or `keras.saving.save_model(model, 'my_model.keras')`. \n"
          ]
        },
        {
          "name": "stdout",
          "output_type": "stream",
          "text": [
            "✅ Model trained and saved as btc_model.h5\n"
          ]
        }
      ],
      "source": [
        "# Install dependencies (only once)\n",
        "!pip install yfinance\n",
        "!pip install tensorflow\n",
        "\n",
        "# Imports\n",
        "import yfinance as yf\n",
        "import numpy as np\n",
        "import pandas as pd\n",
        "import tensorflow as tf\n",
        "from tensorflow.keras.models import Sequential\n",
        "from tensorflow.keras.layers import LSTM, Dense\n",
        "from sklearn.preprocessing import MinMaxScaler\n",
        "\n",
        "# Download historical BTC/USD data\n",
        "df = yf.download('BTC-USD', start='2020-01-01', end='2024-12-31')\n",
        "data = df[['Close']].values\n",
        "\n",
        "# Normalize the data\n",
        "scaler = MinMaxScaler()\n",
        "scaled_data = scaler.fit_transform(data)\n",
        "\n",
        "# Create sequences\n",
        "def create_sequences(data, seq_length):\n",
        "    X, y = [], []\n",
        "    for i in range(seq_length, len(data)):\n",
        "        X.append(data[i - seq_length:i])\n",
        "        y.append(data[i])\n",
        "    return np.array(X), np.array(y)\n",
        "\n",
        "SEQ_LEN = 60\n",
        "X, y = create_sequences(scaled_data, SEQ_LEN)\n",
        "\n",
        "# Reshape and split\n",
        "X = X.reshape((X.shape[0], X.shape[1], 1))\n",
        "train_size = int(len(X) * 0.8)\n",
        "X_train, y_train = X[:train_size], y[:train_size]\n",
        "\n",
        "# Build LSTM model\n",
        "model = Sequential([\n",
        "    LSTM(50, return_sequences=True, input_shape=(SEQ_LEN, 1)),\n",
        "    LSTM(50),\n",
        "    Dense(1)\n",
        "])\n",
        "model.compile(optimizer='adam', loss='mean_squared_error')\n",
        "\n",
        "# Train model\n",
        "model.fit(X_train, y_train, epochs=5, batch_size=32)\n",
        "\n",
        "# Save model\n",
        "model.save('btc_model.h5')\n",
        "print(\"✅ Model trained and saved as btc_model.h5\")\n"
      ]
    },
    {
      "cell_type": "code",
      "execution_count": null,
      "metadata": {},
      "outputs": [],
      "source": []
    },
    {
      "cell_type": "code",
      "execution_count": null,
      "metadata": {
        "id": "jcBvUpOqViIw"
      },
      "outputs": [],
      "source": []
    }
  ],
  "metadata": {
    "colab": {
      "provenance": []
    },
    "kernelspec": {
      "display_name": "Python 3",
      "name": "python3"
    },
    "language_info": {
      "codemirror_mode": {
        "name": "ipython",
        "version": 3
      },
      "file_extension": ".py",
      "mimetype": "text/x-python",
      "name": "python",
      "nbconvert_exporter": "python",
      "pygments_lexer": "ipython3",
      "version": "3.9.6"
    }
  },
  "nbformat": 4,
  "nbformat_minor": 0
}
